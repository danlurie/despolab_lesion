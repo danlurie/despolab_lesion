{
 "cells": [
  {
   "cell_type": "code",
   "execution_count": 1,
   "metadata": {
    "collapsed": true
   },
   "outputs": [],
   "source": [
    "import numpy as np\n",
    "import pandas as pd\n",
    "from nilearn import datasets, image, input_data "
   ]
  },
  {
   "cell_type": "markdown",
   "metadata": {},
   "source": [
    "### Get Power 2011 coordinates from Nilearn and write them to a CSV."
   ]
  },
  {
   "cell_type": "code",
   "execution_count": 2,
   "metadata": {
    "collapsed": false
   },
   "outputs": [],
   "source": [
    "power_2011 = datasets.fetch_coords_power_2011()"
   ]
  },
  {
   "cell_type": "code",
   "execution_count": 3,
   "metadata": {
    "collapsed": false
   },
   "outputs": [],
   "source": [
    "power_2011_df = pd.DataFrame.from_records(power_2011.rois)"
   ]
  },
  {
   "cell_type": "code",
   "execution_count": 4,
   "metadata": {
    "collapsed": false
   },
   "outputs": [],
   "source": [
    "power_2011_df.rename(index=str, columns={'roi':'roi_num'}, inplace=True)"
   ]
  },
  {
   "cell_type": "code",
   "execution_count": 6,
   "metadata": {
    "collapsed": false,
    "scrolled": true
   },
   "outputs": [],
   "source": [
    "!mkdir mni_2_t1_testing"
   ]
  },
  {
   "cell_type": "code",
   "execution_count": 7,
   "metadata": {
    "collapsed": true
   },
   "outputs": [],
   "source": [
    "# Write a csv for use by AFNI's 3dUndump\n",
    "power_2011_df.to_csv('/home/despo/dlurie/Projects/despolab_lesion/mni_2_t1_testing/power_coords_MNI_afni.csv', sep=',',\n",
    "                    columns=['x', 'y', 'z', 'roi_num'], index=False)"
   ]
  },
  {
   "cell_type": "code",
   "execution_count": 8,
   "metadata": {
    "collapsed": false
   },
   "outputs": [],
   "source": [
    "power_2011_df['t'] = 0"
   ]
  },
  {
   "cell_type": "code",
   "execution_count": 9,
   "metadata": {
    "collapsed": false
   },
   "outputs": [],
   "source": [
    "# Write a csv for use by antsApplyTransformsToPoints\n",
    "power_2011_df.to_csv('/home/despo/dlurie/Projects/despolab_lesion/mni_2_t1_testing/power_coords_MNI_ants.csv', sep=',',\n",
    "                    columns=['x', 'y', 'z', 't'], index=False)"
   ]
  },
  {
   "cell_type": "markdown",
   "metadata": {},
   "source": [
    "### Generate an image of the ROIs (4mm radius spheres) in MNI space."
   ]
  },
  {
   "cell_type": "code",
   "execution_count": 10,
   "metadata": {
    "collapsed": false,
    "scrolled": true
   },
   "outputs": [
    {
     "name": "stderr",
     "output_type": "stream",
     "text": [
      "++ 3dUndump: AFNI version=AFNI_16.2.16 (Sep  4 2016) [64-bit]\n",
      "++ Starting to fill via -xyz coordinates\n",
      "++ Total number of voxels filled = 67848\n",
      "++ Wrote out dataset ./mni_2_t1_testing/power2011_MNI.nii.gz\n"
     ]
    }
   ],
   "source": [
    "%%bash\n",
    "3dUndump \\\n",
    "-master /home/despo/dlurie/Software/fsl/data/standard/MNI152_T1_1mm_brain.nii.gz \\\n",
    "-prefix mni_2_t1_testing/power2011_MNI.nii.gz \\\n",
    "-srad 4 \\\n",
    "-xyz /home/despo/dlurie/Projects/despolab_lesion/mni_2_t1_testing/power_coords_MNI_afni.csv \\"
   ]
  },
  {
   "cell_type": "markdown",
   "metadata": {},
   "source": [
    "In `power2011_MNI.nii.gz`, ROI #1 is located at the right Occipital Pole: MNI coordinate xyz=[25, -98, -12]\n",
    "\n",
    "This does not match the MNI coordinate in the text file: xyz=[-25, -98, -12]"
   ]
  },
  {
   "cell_type": "code",
   "execution_count": 11,
   "metadata": {
    "collapsed": false,
    "scrolled": true
   },
   "outputs": [
    {
     "name": "stderr",
     "output_type": "stream",
     "text": [
      "++ 3dUndump: AFNI version=AFNI_16.2.16 (Sep  4 2016) [64-bit]\n",
      "++ Starting to fill via -xyz coordinates\n",
      "++ Total number of voxels filled = 67848\n",
      "++ Wrote out dataset ./mni_2_t1_testing/power2011_MNI_LPI.nii.gz\n"
     ]
    }
   ],
   "source": [
    "%%bash\n",
    "3dUndump \\\n",
    "-master /home/despo/dlurie/Software/fsl/data/standard/MNI152_T1_1mm_brain.nii.gz \\\n",
    "-prefix mni_2_t1_testing/power2011_MNI_LPI.nii.gz \\\n",
    "-orient LPI \\\n",
    "-srad 4 \\\n",
    "-xyz /home/despo/dlurie/Projects/despolab_lesion/mni_2_t1_testing/power_coords_MNI_afni.csv \\"
   ]
  },
  {
   "cell_type": "markdown",
   "metadata": {},
   "source": [
    "Specifying LPI coordinate ordering for `3dUndump` produces ROIs at the proper locations and MNI coordinates. \n",
    "\n",
    "ROI #1 is located at the left Occipital Pole, MNI coordinate xyz=[-25, -98, -12]"
   ]
  },
  {
   "cell_type": "markdown",
   "metadata": {},
   "source": [
    "### Transform ROI image from MNI to T1 space."
   ]
  },
  {
   "cell_type": "code",
   "execution_count": 12,
   "metadata": {
    "collapsed": false
   },
   "outputs": [],
   "source": [
    "%%bash\n",
    "antsApplyTransforms \\\n",
    "-d 3 \\\n",
    "-r /home/despo/dlurie/Projects/despolab_lesion/pipeline_testing/test_out/derivatives/sub-185/anat/sub-185_T1w_preproc.nii.gz \\\n",
    "--input mni_2_t1_testing/power2011_MNI_LPI.nii.gz \\\n",
    "-o mni_2_t1_testing/power2011_sub185_MNI_2_T1.nii.gz \\\n",
    "-n NearestNeighbor \\\n",
    "-t [/home/despo/dlurie/Projects/despolab_lesion/pipeline_testing/test_work/workflow_enumerator/185/t1w_preprocessing/T1_2_MNI_Registration/ants_t1_to_mni0GenericAffine.mat,1] \\\n",
    "-t [/home/despo/dlurie/Projects/despolab_lesion/pipeline_testing/test_work/workflow_enumerator/185/t1w_preprocessing/T1_2_MNI_Registration/ants_t1_to_mni1InverseWarp.nii.gz,0]"
   ]
  },
  {
   "cell_type": "markdown",
   "metadata": {},
   "source": [
    "### Get mapping between MNI coordinates and MNI-ITK coordinates."
   ]
  },
  {
   "cell_type": "code",
   "execution_count": 14,
   "metadata": {
    "collapsed": false
   },
   "outputs": [],
   "source": [
    "%%bash\n",
    "ImageMath 3 mni_2_t1_testing/testvox_MNI.txt LabelStats mni_2_t1_testing/testvox_MNI.nii.gz"
   ]
  },
  {
   "cell_type": "markdown",
   "metadata": {},
   "source": [
    "`testvox_MNI.nii.gz` contains a single voxel at MNI coordiante xyz=[-26, -99, -11]"
   ]
  },
  {
   "cell_type": "code",
   "execution_count": 15,
   "metadata": {
    "collapsed": false,
    "scrolled": true
   },
   "outputs": [
    {
     "name": "stdout",
     "output_type": "stream",
     "text": [
      "x,y,z,t,label,mass,volume,count\r\n",
      "26,99,-11,0,1,0,1,1\r\n"
     ]
    }
   ],
   "source": [
    "!cat mni_2_t1_testing/testvox_MNI.txt"
   ]
  },
  {
   "cell_type": "markdown",
   "metadata": {},
   "source": [
    "To convert MNI coordinates to MNI-ITK coordinates, we must multiply x and y by -1."
   ]
  },
  {
   "cell_type": "markdown",
   "metadata": {},
   "source": [
    "### Transform Power 2011 coordinates from MNI to MNI/ITK space and write to a CSV."
   ]
  },
  {
   "cell_type": "code",
   "execution_count": 16,
   "metadata": {
    "collapsed": false
   },
   "outputs": [],
   "source": [
    "power_2011_MNI_ITK_df = power_2011_df.copy()"
   ]
  },
  {
   "cell_type": "code",
   "execution_count": 17,
   "metadata": {
    "collapsed": false
   },
   "outputs": [
    {
     "data": {
      "text/html": [
       "<div>\n",
       "<table border=\"1\" class=\"dataframe\">\n",
       "  <thead>\n",
       "    <tr style=\"text-align: right;\">\n",
       "      <th></th>\n",
       "      <th>roi_num</th>\n",
       "      <th>x</th>\n",
       "      <th>y</th>\n",
       "      <th>z</th>\n",
       "      <th>t</th>\n",
       "    </tr>\n",
       "  </thead>\n",
       "  <tbody>\n",
       "    <tr>\n",
       "      <th>0</th>\n",
       "      <td>1</td>\n",
       "      <td>-25</td>\n",
       "      <td>-98</td>\n",
       "      <td>-12</td>\n",
       "      <td>0</td>\n",
       "    </tr>\n",
       "    <tr>\n",
       "      <th>1</th>\n",
       "      <td>2</td>\n",
       "      <td>27</td>\n",
       "      <td>-97</td>\n",
       "      <td>-13</td>\n",
       "      <td>0</td>\n",
       "    </tr>\n",
       "    <tr>\n",
       "      <th>2</th>\n",
       "      <td>3</td>\n",
       "      <td>24</td>\n",
       "      <td>32</td>\n",
       "      <td>-18</td>\n",
       "      <td>0</td>\n",
       "    </tr>\n",
       "    <tr>\n",
       "      <th>3</th>\n",
       "      <td>4</td>\n",
       "      <td>-56</td>\n",
       "      <td>-45</td>\n",
       "      <td>-24</td>\n",
       "      <td>0</td>\n",
       "    </tr>\n",
       "    <tr>\n",
       "      <th>4</th>\n",
       "      <td>5</td>\n",
       "      <td>8</td>\n",
       "      <td>41</td>\n",
       "      <td>-24</td>\n",
       "      <td>0</td>\n",
       "    </tr>\n",
       "  </tbody>\n",
       "</table>\n",
       "</div>"
      ],
      "text/plain": [
       "   roi_num   x   y   z  t\n",
       "0        1 -25 -98 -12  0\n",
       "1        2  27 -97 -13  0\n",
       "2        3  24  32 -18  0\n",
       "3        4 -56 -45 -24  0\n",
       "4        5   8  41 -24  0"
      ]
     },
     "execution_count": 17,
     "metadata": {},
     "output_type": "execute_result"
    }
   ],
   "source": [
    "power_2011_MNI_ITK_df.head()"
   ]
  },
  {
   "cell_type": "code",
   "execution_count": 18,
   "metadata": {
    "collapsed": true
   },
   "outputs": [],
   "source": [
    "power_2011_MNI_ITK_df['x'] = power_2011_MNI_ITK_df['x'] * -1\n",
    "power_2011_MNI_ITK_df['y'] = power_2011_MNI_ITK_df['y'] * -1"
   ]
  },
  {
   "cell_type": "code",
   "execution_count": 19,
   "metadata": {
    "collapsed": false
   },
   "outputs": [
    {
     "data": {
      "text/html": [
       "<div>\n",
       "<table border=\"1\" class=\"dataframe\">\n",
       "  <thead>\n",
       "    <tr style=\"text-align: right;\">\n",
       "      <th></th>\n",
       "      <th>roi_num</th>\n",
       "      <th>x</th>\n",
       "      <th>y</th>\n",
       "      <th>z</th>\n",
       "      <th>t</th>\n",
       "    </tr>\n",
       "  </thead>\n",
       "  <tbody>\n",
       "    <tr>\n",
       "      <th>0</th>\n",
       "      <td>1</td>\n",
       "      <td>25</td>\n",
       "      <td>98</td>\n",
       "      <td>-12</td>\n",
       "      <td>0</td>\n",
       "    </tr>\n",
       "    <tr>\n",
       "      <th>1</th>\n",
       "      <td>2</td>\n",
       "      <td>-27</td>\n",
       "      <td>97</td>\n",
       "      <td>-13</td>\n",
       "      <td>0</td>\n",
       "    </tr>\n",
       "    <tr>\n",
       "      <th>2</th>\n",
       "      <td>3</td>\n",
       "      <td>-24</td>\n",
       "      <td>-32</td>\n",
       "      <td>-18</td>\n",
       "      <td>0</td>\n",
       "    </tr>\n",
       "    <tr>\n",
       "      <th>3</th>\n",
       "      <td>4</td>\n",
       "      <td>56</td>\n",
       "      <td>45</td>\n",
       "      <td>-24</td>\n",
       "      <td>0</td>\n",
       "    </tr>\n",
       "    <tr>\n",
       "      <th>4</th>\n",
       "      <td>5</td>\n",
       "      <td>-8</td>\n",
       "      <td>-41</td>\n",
       "      <td>-24</td>\n",
       "      <td>0</td>\n",
       "    </tr>\n",
       "  </tbody>\n",
       "</table>\n",
       "</div>"
      ],
      "text/plain": [
       "   roi_num   x   y   z  t\n",
       "0        1  25  98 -12  0\n",
       "1        2 -27  97 -13  0\n",
       "2        3 -24 -32 -18  0\n",
       "3        4  56  45 -24  0\n",
       "4        5  -8 -41 -24  0"
      ]
     },
     "execution_count": 19,
     "metadata": {},
     "output_type": "execute_result"
    }
   ],
   "source": [
    "power_2011_MNI_ITK_df.head()"
   ]
  },
  {
   "cell_type": "code",
   "execution_count": 20,
   "metadata": {
    "collapsed": true
   },
   "outputs": [],
   "source": [
    "power_2011_MNI_ITK_df['t'] = 0"
   ]
  },
  {
   "cell_type": "code",
   "execution_count": 21,
   "metadata": {
    "collapsed": true
   },
   "outputs": [],
   "source": [
    "# Write a csv for use by antsApplyTransformsToPoints\n",
    "power_2011_MNI_ITK_df.to_csv('/home/despo/dlurie/Projects/despolab_lesion/mni_2_t1_testing/power_coords_MNI_ITK_ants.csv', sep=',',\n",
    "                    columns=['x', 'y', 'z', 't'], index=False)"
   ]
  },
  {
   "cell_type": "markdown",
   "metadata": {},
   "source": [
    "### Transform Power 2011 coordinates from MNI-ITK to T1-ITK space for patient 185"
   ]
  },
  {
   "cell_type": "code",
   "execution_count": 22,
   "metadata": {
    "collapsed": false
   },
   "outputs": [],
   "source": [
    "%%bash\n",
    "antsApplyTransformsToPoints \\\n",
    "-d 3 \\\n",
    "-i /home/despo/dlurie/Projects/despolab_lesion/mni_2_t1_testing/power_coords_MNI_ITK_ants.csv \\\n",
    "-o /home/despo/dlurie/Projects/despolab_lesion/mni_2_t1_testing/power_coords_T1_ITK.csv \\\n",
    "-t [/home/despo/dlurie/Projects/despolab_lesion/pipeline_testing/test_out/derivatives/sub-185/anat/sub-185_T1w_target-MNI152NLin2009cAsym_warp.nii.gz, 0] \\\n",
    "-t [/home/despo/dlurie/Projects/despolab_lesion/pipeline_testing/test_out/derivatives/sub-185/anat/sub-185_T1w_target-MNI152NLin2009cAsym_affine.mat, 0]"
   ]
  },
  {
   "cell_type": "markdown",
   "metadata": {},
   "source": [
    "### Get mapping between T1-ITK coordinates and T1 coordinates."
   ]
  },
  {
   "cell_type": "markdown",
   "metadata": {},
   "source": [
    "In `power2011_sub185_MNI_2_T1.nii.gz`, ROI #1 is located at the left Occipital Pole, xyz~[-22.32, -43.84, -53.84].\n",
    "\n",
    "We'll place a test voxel at this location to get the mapping."
   ]
  },
  {
   "cell_type": "code",
   "execution_count": 23,
   "metadata": {
    "collapsed": false
   },
   "outputs": [],
   "source": [
    "%%bash\n",
    "ImageMath 3 mni_2_t1_testing/testvox_T1.txt LabelStats mni_2_t1_testing/testvox_T1.nii.gz"
   ]
  },
  {
   "cell_type": "code",
   "execution_count": 24,
   "metadata": {
    "collapsed": false,
    "scrolled": true
   },
   "outputs": [
    {
     "name": "stdout",
     "output_type": "stream",
     "text": [
      "x,y,z,t,label,mass,volume,count\r\n",
      "22.3184,43.8437,-53.8403,0,1,0,1,1\r\n"
     ]
    }
   ],
   "source": [
    "!cat mni_2_t1_testing/testvox_T1.txt"
   ]
  },
  {
   "cell_type": "markdown",
   "metadata": {},
   "source": [
    "The output of LabelStats gives the same coordinate for ROI #1 as listed in the coordinates transformed by `antsApplyTransformsToPoints`.\n",
    "\n",
    "To convert T1-ITK coordinates to T1 coordinates, we must multiply x and y by -1."
   ]
  },
  {
   "cell_type": "markdown",
   "metadata": {},
   "source": [
    "### Transform Power 2011 coordinates from T1-ITK to T1 space and write to a CSV."
   ]
  },
  {
   "cell_type": "code",
   "execution_count": 25,
   "metadata": {
    "collapsed": true
   },
   "outputs": [],
   "source": [
    "power_2011_T1_ITK_df = pd.read_csv('/home/despo/dlurie/Projects/despolab_lesion/mni_2_t1_testing/power_coords_T1_ITK.csv')"
   ]
  },
  {
   "cell_type": "code",
   "execution_count": 26,
   "metadata": {
    "collapsed": false
   },
   "outputs": [
    {
     "data": {
      "text/html": [
       "<div>\n",
       "<table border=\"1\" class=\"dataframe\">\n",
       "  <thead>\n",
       "    <tr style=\"text-align: right;\">\n",
       "      <th></th>\n",
       "      <th>x</th>\n",
       "      <th>y</th>\n",
       "      <th>z</th>\n",
       "      <th>t</th>\n",
       "    </tr>\n",
       "  </thead>\n",
       "  <tbody>\n",
       "    <tr>\n",
       "      <th>0</th>\n",
       "      <td>21.9834</td>\n",
       "      <td>43.3662</td>\n",
       "      <td>-53.7220</td>\n",
       "      <td>0</td>\n",
       "    </tr>\n",
       "    <tr>\n",
       "      <th>1</th>\n",
       "      <td>-25.5121</td>\n",
       "      <td>49.1142</td>\n",
       "      <td>-54.7395</td>\n",
       "      <td>0</td>\n",
       "    </tr>\n",
       "    <tr>\n",
       "      <th>2</th>\n",
       "      <td>-38.6173</td>\n",
       "      <td>-71.2065</td>\n",
       "      <td>-31.3740</td>\n",
       "      <td>0</td>\n",
       "    </tr>\n",
       "    <tr>\n",
       "      <th>3</th>\n",
       "      <td>41.5211</td>\n",
       "      <td>-15.5412</td>\n",
       "      <td>-53.9657</td>\n",
       "      <td>0</td>\n",
       "    </tr>\n",
       "    <tr>\n",
       "      <th>4</th>\n",
       "      <td>-25.8182</td>\n",
       "      <td>-83.1194</td>\n",
       "      <td>-33.1153</td>\n",
       "      <td>0</td>\n",
       "    </tr>\n",
       "  </tbody>\n",
       "</table>\n",
       "</div>"
      ],
      "text/plain": [
       "         x        y        z  t\n",
       "0  21.9834  43.3662 -53.7220  0\n",
       "1 -25.5121  49.1142 -54.7395  0\n",
       "2 -38.6173 -71.2065 -31.3740  0\n",
       "3  41.5211 -15.5412 -53.9657  0\n",
       "4 -25.8182 -83.1194 -33.1153  0"
      ]
     },
     "execution_count": 26,
     "metadata": {},
     "output_type": "execute_result"
    }
   ],
   "source": [
    "power_2011_T1_ITK_df.head()"
   ]
  },
  {
   "cell_type": "code",
   "execution_count": 27,
   "metadata": {
    "collapsed": false
   },
   "outputs": [],
   "source": [
    "power_2011_T1_df = power_2011_T1_ITK_df.copy()"
   ]
  },
  {
   "cell_type": "code",
   "execution_count": 28,
   "metadata": {
    "collapsed": false
   },
   "outputs": [],
   "source": [
    "power_2011_T1_df['x'] = power_2011_T1_df['x'] * -1\n",
    "power_2011_T1_df['y'] = power_2011_T1_df['y'] * -1"
   ]
  },
  {
   "cell_type": "code",
   "execution_count": 29,
   "metadata": {
    "collapsed": false
   },
   "outputs": [
    {
     "data": {
      "text/html": [
       "<div>\n",
       "<table border=\"1\" class=\"dataframe\">\n",
       "  <thead>\n",
       "    <tr style=\"text-align: right;\">\n",
       "      <th></th>\n",
       "      <th>x</th>\n",
       "      <th>y</th>\n",
       "      <th>z</th>\n",
       "      <th>t</th>\n",
       "    </tr>\n",
       "  </thead>\n",
       "  <tbody>\n",
       "    <tr>\n",
       "      <th>0</th>\n",
       "      <td>-21.9834</td>\n",
       "      <td>-43.3662</td>\n",
       "      <td>-53.7220</td>\n",
       "      <td>0</td>\n",
       "    </tr>\n",
       "    <tr>\n",
       "      <th>1</th>\n",
       "      <td>25.5121</td>\n",
       "      <td>-49.1142</td>\n",
       "      <td>-54.7395</td>\n",
       "      <td>0</td>\n",
       "    </tr>\n",
       "    <tr>\n",
       "      <th>2</th>\n",
       "      <td>38.6173</td>\n",
       "      <td>71.2065</td>\n",
       "      <td>-31.3740</td>\n",
       "      <td>0</td>\n",
       "    </tr>\n",
       "    <tr>\n",
       "      <th>3</th>\n",
       "      <td>-41.5211</td>\n",
       "      <td>15.5412</td>\n",
       "      <td>-53.9657</td>\n",
       "      <td>0</td>\n",
       "    </tr>\n",
       "    <tr>\n",
       "      <th>4</th>\n",
       "      <td>25.8182</td>\n",
       "      <td>83.1194</td>\n",
       "      <td>-33.1153</td>\n",
       "      <td>0</td>\n",
       "    </tr>\n",
       "  </tbody>\n",
       "</table>\n",
       "</div>"
      ],
      "text/plain": [
       "         x        y        z  t\n",
       "0 -21.9834 -43.3662 -53.7220  0\n",
       "1  25.5121 -49.1142 -54.7395  0\n",
       "2  38.6173  71.2065 -31.3740  0\n",
       "3 -41.5211  15.5412 -53.9657  0\n",
       "4  25.8182  83.1194 -33.1153  0"
      ]
     },
     "execution_count": 29,
     "metadata": {},
     "output_type": "execute_result"
    }
   ],
   "source": [
    "power_2011_T1_df.head()"
   ]
  },
  {
   "cell_type": "code",
   "execution_count": 30,
   "metadata": {
    "collapsed": false
   },
   "outputs": [],
   "source": [
    "power_2011_T1_df['roi_num'] = power_2011_T1_df.index + 1"
   ]
  },
  {
   "cell_type": "code",
   "execution_count": 31,
   "metadata": {
    "collapsed": true
   },
   "outputs": [],
   "source": [
    "# Write a csv for use by AFNI's 3dUndump\n",
    "power_2011_T1_df.to_csv('/home/despo/dlurie/Projects/despolab_lesion/mni_2_t1_testing/power_coords_T1_afni.csv', sep=',',\n",
    "                    columns=['x', 'y', 'z', 'roi_num'], index=False)"
   ]
  },
  {
   "cell_type": "markdown",
   "metadata": {},
   "source": [
    "### Generate an image of the ROIs (4mm radius spheres) in T1 space."
   ]
  },
  {
   "cell_type": "code",
   "execution_count": 32,
   "metadata": {
    "collapsed": false,
    "scrolled": true
   },
   "outputs": [
    {
     "name": "stderr",
     "output_type": "stream",
     "text": [
      "++ 3dUndump: AFNI version=AFNI_16.2.16 (Sep  4 2016) [64-bit]\n",
      "\u001b[7m*+ WARNING:\u001b[0m   If you are performing spatial transformations on an oblique dset, \n",
      "  such as /home/despo/dlurie/Projects/despolab_lesion/pipeline_testing/test_out/derivatives/sub-185/anat/sub-185_T1w_preproc.nii.gz,\n",
      "  or viewing/combining it with volumes of differing obliquity,\n",
      "  you should consider running: \n",
      "     3dWarp -deoblique \n",
      "  on this and  other oblique datasets in the same session.\n",
      " See 3dWarp -help for details.\n",
      "++ Oblique dataset:/home/despo/dlurie/Projects/despolab_lesion/pipeline_testing/test_out/derivatives/sub-185/anat/sub-185_T1w_preproc.nii.gz is 16.900002 degrees from plumb.\n",
      "++ Starting to fill via -xyz coordinates\n",
      "\u001b[7m*+ WARNING:\u001b[0m File /home/despo/dlurie/Projects/despolab_lesion/mni_2_t1_testing/power_coords_T1_afni.csv line 157: y coord=49.9985 is outside -190.259 .. 49.7429\n",
      "++ Total number of voxels filled = 67253\n",
      "++ Wrote out dataset ./mni_2_t1_testing/power2011_T1.nii.gz\n"
     ]
    }
   ],
   "source": [
    "%%bash\n",
    "3dUndump \\\n",
    "-master /home/despo/dlurie/Projects/despolab_lesion/pipeline_testing/test_out/derivatives/sub-185/anat/sub-185_T1w_preproc.nii.gz \\\n",
    "-prefix mni_2_t1_testing/power2011_T1.nii.gz \\\n",
    "-srad 4 \\\n",
    "-xyz /home/despo/dlurie/Projects/despolab_lesion/mni_2_t1_testing/power_coords_T1_afni.csv \\"
   ]
  },
  {
   "cell_type": "markdown",
   "metadata": {},
   "source": [
    "In `power2011_T1.nii.gz`, ROI #1 is located outside the brain, behind the left Occipital Pole, coordinate xyz=[-22.32, -87.96, -59.53]\n",
    "\n",
    "This does not match the MNI coordinate in the text file or the warped image: xyz=[-21.98,-43.36,-53.72]\n",
    "\n",
    "Because ROI #1 is on the correct size of the brain, and the spatial relationship of the ROIs seems to make sense other than their offset from the brain, I am guessing the problem has to do with how AFNI handles oblique datasets."
   ]
  },
  {
   "cell_type": "markdown",
   "metadata": {},
   "source": [
    "### Try creating spheres in Nilearn"
   ]
  },
  {
   "cell_type": "code",
   "execution_count": 33,
   "metadata": {
    "collapsed": true
   },
   "outputs": [],
   "source": [
    "import nibabel as nib\n",
    "from nilearn.input_data import NiftiMasker\n",
    "from nilearn.input_data.nifti_spheres_masker import  \\\n",
    "    _apply_mask_and_get_affinity"
   ]
  },
  {
   "cell_type": "code",
   "execution_count": 34,
   "metadata": {
    "collapsed": false
   },
   "outputs": [],
   "source": [
    "brain_mask = '/home/despo/dlurie/Projects/despolab_lesion/pipeline_testing/test_out/derivatives/sub-185/anat/sub-185_T1w_brainmask.nii.gz'\n",
    "brain_mask_img = nib.load(brain_mask)"
   ]
  },
  {
   "cell_type": "code",
   "execution_count": 35,
   "metadata": {
    "collapsed": false
   },
   "outputs": [],
   "source": [
    "seeds = power_2011_T1_df.loc[:,'x':'z'].values\n",
    "radius = 4"
   ]
  },
  {
   "cell_type": "code",
   "execution_count": 36,
   "metadata": {
    "collapsed": true
   },
   "outputs": [],
   "source": [
    "# apply sphere masking on the mask\n",
    "_, X = _apply_mask_and_get_affinity(seeds, brain_mask_img, radius=radius,\n",
    "                                    allow_overlap=True,\n",
    "                                    mask_img=brain_mask_img)"
   ]
  },
  {
   "cell_type": "code",
   "execution_count": 37,
   "metadata": {
    "collapsed": false
   },
   "outputs": [],
   "source": [
    "# inverse-transform X that contains masked images with spheres\n",
    "masker = NiftiMasker(mask_img=brain_mask)\n",
    "masker.fit()\n",
    "img = masker.inverse_transform(np.sum(X, axis=0).A.ravel())"
   ]
  },
  {
   "cell_type": "code",
   "execution_count": 38,
   "metadata": {
    "collapsed": true
   },
   "outputs": [],
   "source": [
    "img.to_filename('mni_2_t1_testing/nilearn_spheres_test.nii.gz')"
   ]
  },
  {
   "cell_type": "code",
   "execution_count": null,
   "metadata": {
    "collapsed": true
   },
   "outputs": [],
   "source": []
  }
 ],
 "metadata": {
  "kernelspec": {
   "display_name": "Python [fmriprep-env]",
   "language": "python",
   "name": "Python [fmriprep-env]"
  },
  "language_info": {
   "codemirror_mode": {
    "name": "ipython",
    "version": 3
   },
   "file_extension": ".py",
   "mimetype": "text/x-python",
   "name": "python",
   "nbconvert_exporter": "python",
   "pygments_lexer": "ipython3",
   "version": "3.5.2"
  }
 },
 "nbformat": 4,
 "nbformat_minor": 0
}
