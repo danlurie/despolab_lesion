{
 "cells": [
  {
   "cell_type": "code",
   "execution_count": 1,
   "metadata": {
    "collapsed": true
   },
   "outputs": [],
   "source": [
    "import re\n",
    "import os\n",
    "import glob"
   ]
  },
  {
   "cell_type": "code",
   "execution_count": 2,
   "metadata": {
    "collapsed": true
   },
   "outputs": [],
   "source": [
    "fpt = '/home/despoB/lesion/data/original/nifti/sub_{}/anat/t1mprage.nii.gz'"
   ]
  },
  {
   "cell_type": "code",
   "execution_count": 3,
   "metadata": {
    "collapsed": true
   },
   "outputs": [],
   "source": [
    "nifti_dir = '/home/despoB/lesion/data/original/nifti'"
   ]
  },
  {
   "cell_type": "code",
   "execution_count": 4,
   "metadata": {
    "collapsed": true
   },
   "outputs": [],
   "source": [
    "epi_rgx = re.compile('(EPITemplatephysiomatchedN[A-Z]?\\.nii\\.gz)|(EPITemplatephysiomatched[A-Z]?\\.nii\\.gz)')"
   ]
  },
  {
   "cell_type": "markdown",
   "metadata": {},
   "source": [
    "### Look through files in `../originals/nifti` to determine which patients have full data ready"
   ]
  },
  {
   "cell_type": "code",
   "execution_count": 5,
   "metadata": {
    "collapsed": false
   },
   "outputs": [],
   "source": [
    "t1w_scans = []\n",
    "missing_t1w = []\n",
    "missing_anat = []\n",
    "func_old = []\n",
    "func_new = []\n",
    "missing_epi = []\n",
    "no_func_scans = []\n",
    "missing_func = []\n",
    "for sub_id in os.listdir(nifti_dir):\n",
    "    # Define full path to /anat\n",
    "    anat_path = os.path.join(nifti_dir, sub_id, 'anat')\n",
    "    # If /anat exists...\n",
    "    if os.path.isdir(anat_path):\n",
    "        # Define the path where we should find a t1w scan\n",
    "        t1wpath = os.path.join(anat_path, 't1mprage.nii.gz')\n",
    "        # If a t1w scan exists..\n",
    "        if os.path.isfile(t1wpath):\n",
    "            # Add to the list of t1w scans\n",
    "            t1w_scans.append(t1wpath)\n",
    "        else:\n",
    "            # Add to the list of patients missing t1w scans\n",
    "            missing_t1w.append(sub_id)\n",
    "    else:\n",
    "        # Add to the list of patients missing /anat\n",
    "        missing_anat.append(sub_id)\n",
    "    \n",
    "    # Define full path to /func\n",
    "    func_path = os.path.join(nifti_dir, sub_id, 'func')\n",
    "    # If /func exists...\n",
    "    if os.path.isdir(func_path):\n",
    "        # Get the contents of /func\n",
    "        func_files = os.listdir(func_path)\n",
    "        # If there are files in /func\n",
    "        if len(func_files) > 0:\n",
    "            # Initialize func_counter\n",
    "            func_counter = 0\n",
    "            # Loop through the files\n",
    "            for scan in func_files:\n",
    "                # Check if the scan is an EPI\n",
    "                regx_res = epi_rgx.match(scan)\n",
    "                # If the scan is an EPI..\n",
    "                if regx_res:\n",
    "                    # If it is an old sequence...\n",
    "                    if regx_res.groups()[0] is None:\n",
    "                        # Add to the list of old scans\n",
    "                        func_old.append(os.path.join(func_path, scan))\n",
    "                    else:\n",
    "                        # Add to the list of new scans\n",
    "                        func_new.append(os.path.join(func_path, scan))\n",
    "                    # Increment func_counter\n",
    "                    func_counter += 1\n",
    "            # If there were no EPI scans..\n",
    "            if func_counter == 0:\n",
    "                missing_epi.append(sub_id)\n",
    "        # If there were no func scans at all...\n",
    "        else:\n",
    "            # Add to list of patients with no func scans.\n",
    "            no_func_scans.append(sub_id)\n",
    "    # If /func is missing...\n",
    "    else:\n",
    "        # Add to list of patients missing /func\n",
    "        missing_func.append(sub_id)\n",
    "\n",
    "out_arrays = [t1w_scans, missing_t1w, missing_anat, func_old, func_new,\n",
    "                  missing_epi, no_func_scans, missing_func]\n",
    "for oarray in out_arrays:\n",
    "    oarray.sort()"
   ]
  },
  {
   "cell_type": "code",
   "execution_count": 6,
   "metadata": {
    "collapsed": false
   },
   "outputs": [],
   "source": [
    "missing_t1w_set = set(missing_t1w)\n",
    "missing_anat_set = set(missing_anat)\n",
    "missing_epi_set = set(missing_epi)\n",
    "no_func_scans_set = set(no_func_scans)\n",
    "missing_func_set = set(missing_func)"
   ]
  },
  {
   "cell_type": "code",
   "execution_count": 7,
   "metadata": {
    "collapsed": false
   },
   "outputs": [],
   "source": [
    "not_ready = missing_anat_set | missing_epi_set | missing_func_set | missing_t1w_set | no_func_scans_set"
   ]
  },
  {
   "cell_type": "code",
   "execution_count": 8,
   "metadata": {
    "collapsed": false
   },
   "outputs": [],
   "source": [
    "ready_set = set(os.listdir(nifti_dir)) - not_ready"
   ]
  },
  {
   "cell_type": "code",
   "execution_count": 9,
   "metadata": {
    "collapsed": false
   },
   "outputs": [],
   "source": [
    "ready_set = set([i[4:7] for i in list(ready_set)])"
   ]
  },
  {
   "cell_type": "markdown",
   "metadata": {},
   "source": [
    "### Look through `../mask_prep` to see which patients have masks ready"
   ]
  },
  {
   "cell_type": "code",
   "execution_count": 10,
   "metadata": {
    "collapsed": false
   },
   "outputs": [],
   "source": [
    "mask_files = os.listdir('/home/despoB/lesion/mask_prep/combined')"
   ]
  },
  {
   "cell_type": "code",
   "execution_count": 11,
   "metadata": {
    "collapsed": true
   },
   "outputs": [],
   "source": [
    "has_mask = [i[0:3] for i in mask_files]"
   ]
  },
  {
   "cell_type": "code",
   "execution_count": 12,
   "metadata": {
    "collapsed": false
   },
   "outputs": [],
   "source": [
    "has_mask_set = set(has_mask)"
   ]
  },
  {
   "cell_type": "code",
   "execution_count": 13,
   "metadata": {
    "collapsed": true
   },
   "outputs": [],
   "source": [
    "ready_with_mask = ready_set & has_mask_set"
   ]
  },
  {
   "cell_type": "code",
   "execution_count": 14,
   "metadata": {
    "collapsed": false
   },
   "outputs": [],
   "source": [
    "ready_with_mask = list(ready_with_mask)"
   ]
  },
  {
   "cell_type": "code",
   "execution_count": 15,
   "metadata": {
    "collapsed": false
   },
   "outputs": [],
   "source": [
    "ready_with_mask.sort()"
   ]
  },
  {
   "cell_type": "markdown",
   "metadata": {},
   "source": [
    "### Create BIDS symlink structure for patients whose data and mask are ready"
   ]
  },
  {
   "cell_type": "code",
   "execution_count": 17,
   "metadata": {
    "collapsed": true
   },
   "outputs": [],
   "source": [
    "from pathlib import Path"
   ]
  },
  {
   "cell_type": "code",
   "execution_count": 18,
   "metadata": {
    "collapsed": false
   },
   "outputs": [
    {
     "name": "stdout",
     "output_type": "stream",
     "text": [
      "sub-101\n",
      "sub-102\n",
      "sub-103\n",
      "sub-104\n",
      "sub-106\n",
      "sub-151\n",
      "sub-152\n",
      "sub-153\n",
      "sub-154\n",
      "sub-155\n",
      "sub-156\n",
      "sub-157\n",
      "sub-159\n",
      "sub-160\n",
      "sub-161\n",
      "sub-164\n",
      "sub-165\n",
      "sub-166\n",
      "sub-167\n",
      "sub-169\n",
      "sub-170\n",
      "sub-171\n",
      "sub-172\n",
      "sub-174\n",
      "sub-175\n",
      "sub-177\n",
      "sub-178\n",
      "sub-179\n",
      "sub-180\n",
      "sub-181\n",
      "sub-182\n",
      "sub-185\n",
      "sub-191\n"
     ]
    }
   ],
   "source": [
    "BIDS_DIR = Path('/home/despo/dlurie/Projects/despolab_lesion/first_pass_analysis/input')\n",
    "ORIG_DIR = Path('/home/despoB/lesion/data/original/nifti')\n",
    "MASK_DIR = Path('/home/despoB/lesion/mask_prep/combined')\n",
    "EPI_META = '/home/despo/dlurie/Projects/despolab_lesion/pipeline_testing/input/sub-175/func/sub-175_task-rest_run-01_bold.json'\n",
    "\n",
    "# for each patient in ready_with_mask\n",
    "for pat_id in ready_with_mask:\n",
    "    # set the BIDS subject ID\n",
    "    sub_id = 'sub-'+pat_id\n",
    "    print(sub_id)\n",
    "    # set the path to the BIDS subject anat and func directories\n",
    "    anat_dir = BIDS_DIR.joinpath(sub_id, 'anat')\n",
    "    func_dir = BIDS_DIR.joinpath(sub_id, 'func')\n",
    "    # create a subject directory and anat/func subdirectories\n",
    "    anat_dir.mkdir(parents=True)\n",
    "    func_dir.mkdir()\n",
    "    # Set the patient existing ID\n",
    "    orig_id = 'sub_'+pat_id\n",
    "    # Set the original data directory\n",
    "    pat_origs = ORIG_DIR.joinpath(orig_id)\n",
    "    # create a symlink to the t1w image in BIDS/anat\n",
    "    t1w_fname = 'sub-{}_T1w.nii.gz'.format(pat_id)\n",
    "    os.symlink(str(pat_origs.joinpath('anat', 't1mprage.nii.gz')), str(anat_dir.joinpath(t1w_fname)))\n",
    "    # create a symlink to the mask image in BIDS/anat\n",
    "    mask_fname = 'sub-{}_t1w_label-lesion_roi.nii.gz'.format(pat_id)\n",
    "    os.symlink(str(MASK_DIR.joinpath(pat_id+'_manual_mask.nii.gz')), str(anat_dir.joinpath(mask_fname)))\n",
    "    # check which func protocol this patient has\n",
    "    old_res = [i for i in func_old if pat_id in i]\n",
    "    new_res = [i for i in func_new if pat_id in i]\n",
    "    # initialize run_counter\n",
    "    run_counter = 1\n",
    "    # if old protocol..\n",
    "    if old_res:\n",
    "        # Sort the list of EPI scans\n",
    "        old_res.sort()\n",
    "        # loop through EPI scans\n",
    "        for epi_scan in old_res:\n",
    "            # create a symlink and label the EPI scan\n",
    "            epi_fname = 'sub-{0}_task-rest_run-{1:02d}_bold.nii.gz'.format(pat_id, run_counter)\n",
    "            os.symlink(epi_scan, str(func_dir.joinpath(epi_fname)))\n",
    "            # create a symlink to the EPI metaflie\n",
    "            meta_fname = 'sub-{0}_task-rest_run-{1:02d}_bold.json'.format(pat_id, run_counter)            \n",
    "            os.symlink(EPI_META, str(func_dir.joinpath(meta_fname)))\n",
    "            # increment run_counter\n",
    "            run_counter += 1\n",
    "    elif new_res:\n",
    "        # Sort the list of EPI scans\n",
    "        new_res.sort()\n",
    "        # loop through EPI scans\n",
    "        for epi_scan in new_res:\n",
    "            # create a symlink and label the EPI scan\n",
    "            epi_fname = 'sub-{0}_task-rest_run-{1:02d}_bold.nii.gz'.format(pat_id, run_counter)\n",
    "            os.symlink(epi_scan, str(func_dir.joinpath(epi_fname)))\n",
    "            # create a symlink to the EPI metaflie\n",
    "            meta_fname = 'sub-{0}_task-rest_run-{1:02d}_bold.json'.format(pat_id, run_counter)            \n",
    "            os.symlink(EPI_META, str(func_dir.joinpath(meta_fname)))\n",
    "            # increment run_counter\n",
    "            run_counter += 1"
   ]
  }
 ],
 "metadata": {
  "kernelspec": {
   "display_name": "Python [fmriprep-env]",
   "language": "python",
   "name": "Python [fmriprep-env]"
  },
  "language_info": {
   "codemirror_mode": {
    "name": "ipython",
    "version": 3
   },
   "file_extension": ".py",
   "mimetype": "text/x-python",
   "name": "python",
   "nbconvert_exporter": "python",
   "pygments_lexer": "ipython3",
   "version": "3.5.2"
  }
 },
 "nbformat": 4,
 "nbformat_minor": 0
}
