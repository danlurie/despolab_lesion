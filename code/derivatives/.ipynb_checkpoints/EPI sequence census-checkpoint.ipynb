{
 "cells": [
  {
   "cell_type": "code",
   "execution_count": 13,
   "metadata": {
    "collapsed": true
   },
   "outputs": [],
   "source": [
    "from glob import glob\n",
    "import os"
   ]
  },
  {
   "cell_type": "code",
   "execution_count": 14,
   "metadata": {
    "collapsed": true
   },
   "outputs": [],
   "source": [
    "tsv_128 = sorted(glob('/home/despoB/dlurie/Projects/despolab_lesion/preproc/out/fmriprep/sub-*/func/sub-*_task-rest_acq-128px_run-01_bold_confounds.tsv'))"
   ]
  },
  {
   "cell_type": "code",
   "execution_count": 15,
   "metadata": {
    "collapsed": true
   },
   "outputs": [],
   "source": [
    "has_128 = [os.path.basename(i)[4:7] for i in tsv_128]"
   ]
  },
  {
   "cell_type": "code",
   "execution_count": 16,
   "metadata": {
    "collapsed": true
   },
   "outputs": [],
   "source": [
    "with open('/home/despoB/dlurie/Projects/despolab_lesion/derivatives/has_acq-128px.txt', 'w') as outf:\n",
    "    for pid in has_128:\n",
    "        outf.write(pid)\n",
    "        outf.write('\\n')"
   ]
  },
  {
   "cell_type": "code",
   "execution_count": 17,
   "metadata": {
    "collapsed": true
   },
   "outputs": [],
   "source": [
    "tsv_64 = sorted(glob('/home/despoB/dlurie/Projects/despolab_lesion/preproc/out/fmriprep/sub-*/func/sub-*_task-rest_acq-64px_run-01_bold_confounds.tsv'))"
   ]
  },
  {
   "cell_type": "code",
   "execution_count": 18,
   "metadata": {
    "collapsed": true
   },
   "outputs": [],
   "source": [
    "has_64 = [os.path.basename(i)[4:7] for i in tsv_64]"
   ]
  },
  {
   "cell_type": "code",
   "execution_count": 20,
   "metadata": {
    "collapsed": true
   },
   "outputs": [],
   "source": [
    "with open('/home/despoB/dlurie/Projects/despolab_lesion/derivatives/has_acq-64px.txt', 'w') as outf:\n",
    "    for pid in has_64:\n",
    "        outf.write(pid)\n",
    "        outf.write('\\n')"
   ]
  }
 ],
 "metadata": {
  "kernelspec": {
   "display_name": "Python 3",
   "language": "python",
   "name": "python3"
  },
  "language_info": {
   "codemirror_mode": {
    "name": "ipython",
    "version": 3
   },
   "file_extension": ".py",
   "mimetype": "text/x-python",
   "name": "python",
   "nbconvert_exporter": "python",
   "pygments_lexer": "ipython3",
   "version": "3.5.3"
  }
 },
 "nbformat": 4,
 "nbformat_minor": 2
}
