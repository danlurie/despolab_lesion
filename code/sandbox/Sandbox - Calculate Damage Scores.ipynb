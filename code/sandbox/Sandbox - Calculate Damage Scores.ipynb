{
 "cells": [
  {
   "cell_type": "code",
   "execution_count": 1,
   "metadata": {
    "collapsed": true
   },
   "outputs": [],
   "source": [
    "import numpy as np\n",
    "import pandas as pd"
   ]
  },
  {
   "cell_type": "code",
   "execution_count": 2,
   "metadata": {
    "collapsed": true
   },
   "outputs": [],
   "source": [
    "roi_damage = pd.read_csv('/home/despoB/dlurie/Projects/despolab_lesion/derivatives/sub-101/anat/sub-101_t1W_atlas-BNA_mask-lesion_ROIdamage.csv', index_col='roi_label')"
   ]
  },
  {
   "cell_type": "code",
   "execution_count": 3,
   "metadata": {
    "collapsed": true
   },
   "outputs": [],
   "source": [
    "roi_list = np.loadtxt('/home/despoB/dlurie/Projects/despolab_lesion/analysis/first_pass_ROIs.txt', dtype='int')\n",
    "roi_list = roi_list[1:]"
   ]
  },
  {
   "cell_type": "code",
   "execution_count": 4,
   "metadata": {
    "collapsed": true
   },
   "outputs": [],
   "source": [
    "keep_df = roi_damage.loc[roi_list]"
   ]
  },
  {
   "cell_type": "code",
   "execution_count": 5,
   "metadata": {
    "collapsed": true
   },
   "outputs": [],
   "source": [
    "damaged_rois = keep_df[keep_df.pct_lesion > 1].index.values"
   ]
  },
  {
   "cell_type": "code",
   "execution_count": 6,
   "metadata": {},
   "outputs": [
    {
     "data": {
      "text/plain": [
       "array([ 36,  38,  44,  46,  52, 166, 168, 220, 224, 228])"
      ]
     },
     "execution_count": 6,
     "metadata": {},
     "output_type": "execute_result"
    }
   ],
   "source": [
    "damaged_rois"
   ]
  },
  {
   "cell_type": "code",
   "execution_count": 7,
   "metadata": {
    "collapsed": true
   },
   "outputs": [],
   "source": [
    "damaged_roi_idxs = damaged_rois - 1"
   ]
  },
  {
   "cell_type": "code",
   "execution_count": 8,
   "metadata": {
    "collapsed": true
   },
   "outputs": [],
   "source": [
    "dmg_pcts = roi_damage.loc[damaged_rois].pct_lesion.values"
   ]
  },
  {
   "cell_type": "code",
   "execution_count": 9,
   "metadata": {},
   "outputs": [
    {
     "data": {
      "text/plain": [
       "array([ 21.46523565,  24.29993777,  67.18916993,  25.42047802,\n",
       "        68.36544438,  22.57696693,   1.4084507 ,   5.89695841,\n",
       "         4.6852123 ,   2.689037  ])"
      ]
     },
     "execution_count": 9,
     "metadata": {},
     "output_type": "execute_result"
    }
   ],
   "source": [
    "dmg_pcts"
   ]
  },
  {
   "cell_type": "code",
   "execution_count": 26,
   "metadata": {
    "collapsed": true
   },
   "outputs": [],
   "source": [
    "pc = np.loadtxt('/home/despoB/dlurie/Projects/despolab_lesion/sandbox/hcp_mean_pc-louvain_gamma-1.0.txt')"
   ]
  },
  {
   "cell_type": "code",
   "execution_count": 27,
   "metadata": {
    "collapsed": true
   },
   "outputs": [],
   "source": [
    "wd = np.loadtxt('/home/despoB/dlurie/Projects/despolab_lesion/sandbox/hcp_mean_wmdz-louvain_gamma-1.0.txt')"
   ]
  },
  {
   "cell_type": "code",
   "execution_count": 11,
   "metadata": {
    "collapsed": true
   },
   "outputs": [],
   "source": [
    "pc_vals = pc[damaged_roi_idxs]"
   ]
  },
  {
   "cell_type": "code",
   "execution_count": 12,
   "metadata": {},
   "outputs": [
    {
     "data": {
      "text/plain": [
       "array([ 0.62218371,  0.61945266,  0.20197738,  0.59666479,  0.44499332,\n",
       "        0.63075904,  0.63902132,  0.33764873,  0.48524963,  0.36325416])"
      ]
     },
     "execution_count": 12,
     "metadata": {},
     "output_type": "execute_result"
    }
   ],
   "source": [
    "pc_vals"
   ]
  },
  {
   "cell_type": "code",
   "execution_count": 13,
   "metadata": {
    "collapsed": true
   },
   "outputs": [],
   "source": [
    "dmg_all = dmg_pcts * pc_vals"
   ]
  },
  {
   "cell_type": "code",
   "execution_count": 14,
   "metadata": {
    "collapsed": true
   },
   "outputs": [],
   "source": [
    "pc_damage_score = np.mean(dmg_all)"
   ]
  },
  {
   "cell_type": "code",
   "execution_count": 15,
   "metadata": {},
   "outputs": [
    {
     "data": {
      "text/plain": [
       "10.795040130696616"
      ]
     },
     "execution_count": 15,
     "metadata": {},
     "output_type": "execute_result"
    }
   ],
   "source": [
    "pc_damage_score"
   ]
  },
  {
   "cell_type": "code",
   "execution_count": 16,
   "metadata": {
    "collapsed": true
   },
   "outputs": [],
   "source": [
    "def filter_rois(patient_damage_df, common_rois, damage_thresh):\n",
    "    common_df = patient_damage_df.loc[common_rois]\n",
    "    damaged_rois = common_df[common_df.pct_lesion > damage_thresh].index.values\n",
    "    return damaged_rois"
   ]
  },
  {
   "cell_type": "code",
   "execution_count": 17,
   "metadata": {
    "collapsed": true
   },
   "outputs": [],
   "source": [
    "knockout = filter_rois(roi_damage, roi_list, 1)"
   ]
  },
  {
   "cell_type": "code",
   "execution_count": 30,
   "metadata": {
    "collapsed": true
   },
   "outputs": [],
   "source": [
    "def pc_damage(patient_damage_df, healthy_pc, damaged_rois):\n",
    "    damage_pcts = patient_damage_df.loc[damaged_rois].pct_lesion.values\n",
    "    pc_vals = healthy_pc[damaged_rois - 1]\n",
    "    damage_score = np.mean(damage_pcts * pc_vals)\n",
    "    return damage_score"
   ]
  },
  {
   "cell_type": "code",
   "execution_count": 32,
   "metadata": {
    "collapsed": true
   },
   "outputs": [],
   "source": [
    "def wd_damage(patient_damage_df, healthy_wd, damaged_rois):\n",
    "    damage_pcts = patient_damage_df.loc[damaged_rois].pct_lesion.values\n",
    "    wd_vals = healthy_wd[damaged_rois - 1]\n",
    "    damage_score = np.mean(damage_pcts * wd_vals)\n",
    "    return damage_score"
   ]
  },
  {
   "cell_type": "code",
   "execution_count": 31,
   "metadata": {},
   "outputs": [
    {
     "data": {
      "text/plain": [
       "10.795040130696616"
      ]
     },
     "execution_count": 31,
     "metadata": {},
     "output_type": "execute_result"
    }
   ],
   "source": [
    "pc_damage(roi_damage, pc, knockout)"
   ]
  },
  {
   "cell_type": "code",
   "execution_count": 33,
   "metadata": {},
   "outputs": [
    {
     "data": {
      "text/plain": [
       "4.5382951705617627"
      ]
     },
     "execution_count": 33,
     "metadata": {},
     "output_type": "execute_result"
    }
   ],
   "source": [
    "wd_damage(roi_damage, wd, knockout)"
   ]
  },
  {
   "cell_type": "code",
   "execution_count": 34,
   "metadata": {
    "collapsed": true
   },
   "outputs": [],
   "source": [
    "# Load list of subjects \n",
    "sublist_file = '/home/despoB/dlurie/Projects/despolab_lesion/derivatives/has_EPI.txt'\n",
    "subject_list = np.loadtxt(sublist_file, dtype='int')\n",
    "subject_list = [str(i) for i in subject_list]"
   ]
  },
  {
   "cell_type": "code",
   "execution_count": 35,
   "metadata": {
    "collapsed": true
   },
   "outputs": [],
   "source": [
    "skip = np.loadtxt('/home/despoB/dlurie/Projects/despolab_lesion/analysis/first_pass_skips.txt', dtype='int')\n",
    "skip = [str(i) for i in skip]"
   ]
  },
  {
   "cell_type": "code",
   "execution_count": 36,
   "metadata": {
    "collapsed": true
   },
   "outputs": [],
   "source": [
    "damage_fpt = '/home/despoB/dlurie/Projects/despolab_lesion/derivatives/sub-{0}/anat/sub-{0}_t1W_atlas-BNA_mask-lesion_ROIdamage.csv'"
   ]
  },
  {
   "cell_type": "code",
   "execution_count": 38,
   "metadata": {
    "collapsed": true
   },
   "outputs": [],
   "source": [
    "damage_scores = []\n",
    "for pid in subject_list:\n",
    "    if pid not in skip:\n",
    "        patient_damage_df = pd.read_csv(damage_fpt.format(pid), index_col='roi_label')\n",
    "        knockout = filter_rois(patient_damage_df, roi_list, 0)\n",
    "        pc_damage_score = pc_damage(patient_damage_df, pc, knockout)\n",
    "        wd_damage_score = wd_damage(patient_damage_df, wd, knockout)\n",
    "        damage_scores.append((pid, pc_damage_score, wd_damage_score))"
   ]
  },
  {
   "cell_type": "code",
   "execution_count": 39,
   "metadata": {
    "collapsed": true
   },
   "outputs": [],
   "source": [
    "damage_scores_df = pd.DataFrame.from_records(damage_scores, columns=['pid', 'pc_damage', 'wd_damage'])"
   ]
  },
  {
   "cell_type": "code",
   "execution_count": 40,
   "metadata": {
    "collapsed": true
   },
   "outputs": [],
   "source": [
    "damage_scores_df.to_csv('/home/despoB/dlurie/Projects/despolab_lesion/analysis/damage_all.csv', index=False)"
   ]
  },
  {
   "cell_type": "code",
   "execution_count": null,
   "metadata": {
    "collapsed": true
   },
   "outputs": [],
   "source": []
  }
 ],
 "metadata": {
  "kernelspec": {
   "display_name": "Python 3",
   "language": "python",
   "name": "python3"
  },
  "language_info": {
   "codemirror_mode": {
    "name": "ipython",
    "version": 3
   },
   "file_extension": ".py",
   "mimetype": "text/x-python",
   "name": "python",
   "nbconvert_exporter": "python",
   "pygments_lexer": "ipython3",
   "version": "3.5.3"
  }
 },
 "nbformat": 4,
 "nbformat_minor": 2
}
