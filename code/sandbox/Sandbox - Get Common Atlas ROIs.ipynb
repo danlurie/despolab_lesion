{
 "cells": [
  {
   "cell_type": "code",
   "execution_count": 1,
   "metadata": {
    "collapsed": true
   },
   "outputs": [],
   "source": [
    "import numpy as np\n",
    "import pandas as pd\n",
    "from glob import glob"
   ]
  },
  {
   "cell_type": "code",
   "execution_count": 3,
   "metadata": {
    "collapsed": true
   },
   "outputs": [],
   "source": [
    "# data issues, see notes in Bear\n",
    "bad_data = ['109', '154']"
   ]
  },
  {
   "cell_type": "code",
   "execution_count": 5,
   "metadata": {
    "collapsed": true
   },
   "outputs": [],
   "source": [
    "# Most due to failed T1-MNI registrations (more than 10 ROIs with under 5% coverage)\n",
    "very_bad_cov = ['115', '120', '121', '131', '132', '136', '140', '151', '156', '159', '166', '167', '177']"
   ]
  },
  {
   "cell_type": "code",
   "execution_count": 6,
   "metadata": {
    "collapsed": true
   },
   "outputs": [],
   "source": [
    "# cerebellar lesions\n",
    "cerebellar = ['149','181' ]"
   ]
  },
  {
   "cell_type": "code",
   "execution_count": 7,
   "metadata": {
    "collapsed": true
   },
   "outputs": [],
   "source": [
    "skip = bad_data + very_bad_cov + cerebellar"
   ]
  },
  {
   "cell_type": "code",
   "execution_count": 8,
   "metadata": {
    "collapsed": true
   },
   "outputs": [],
   "source": [
    "with open('/home/despoB/dlurie/Projects/despolab_lesion/analysis/first_pass_skips.txt', 'w') as outf:\n",
    "    for pid in skip:\n",
    "        outf.write(pid)\n",
    "        outf.write('\\n')"
   ]
  },
  {
   "cell_type": "code",
   "execution_count": 9,
   "metadata": {},
   "outputs": [],
   "source": [
    "superset = set(range(247))\n",
    "\n",
    "for acq in ['128px','64px']:\n",
    "    # Load list of subjects with the specified EPI sequence.\n",
    "    sublist_file = '/home/despoB/dlurie/Projects/despolab_lesion/derivatives/has_acq-{0}.txt'.format(acq)\n",
    "    subject_list = np.loadtxt(sublist_file, dtype='int')\n",
    "    subject_list = [str(i) for i in subject_list]\n",
    "    \n",
    "    coverage_fpt = '/home/despoB/dlurie/Projects/despolab_lesion/derivatives/sub-{0}/func/sub-{0}_task-rest_acq-{1}_run-01_bold_space-T1w_atlas-BNA_mask-brainmask_EPIcoverage.csv'\n",
    "    \n",
    "    for pid in subject_list:\n",
    "        if pid not in skip:\n",
    "            cov_data = pd.read_csv(coverage_fpt.format(pid, acq), index_col='roi_label')\n",
    "            to_keep = set(cov_data[cov_data['pct_cov'] > 25].index.values)\n",
    "            superset.intersection_update(to_keep)\n",
    "            #print(\"Patient {0} has {1} missing ROIs!\".format(pid, len(to_keep)))\n",
    "            "
   ]
  },
  {
   "cell_type": "code",
   "execution_count": 10,
   "metadata": {},
   "outputs": [
    {
     "data": {
      "text/plain": [
       "208"
      ]
     },
     "execution_count": 10,
     "metadata": {},
     "output_type": "execute_result"
    }
   ],
   "source": [
    "len(superset)"
   ]
  },
  {
   "cell_type": "code",
   "execution_count": 11,
   "metadata": {
    "collapsed": true
   },
   "outputs": [],
   "source": [
    "all_rois = set(range(247))"
   ]
  },
  {
   "cell_type": "code",
   "execution_count": 12,
   "metadata": {},
   "outputs": [],
   "source": [
    "to_drop = all_rois - superset"
   ]
  },
  {
   "cell_type": "code",
   "execution_count": 13,
   "metadata": {},
   "outputs": [],
   "source": [
    "with open('/home/despoB/dlurie/Projects/despolab_lesion/analysis/first_pass_ROIs.txt', 'w') as outf:\n",
    "    for roi in list(superset):\n",
    "        outf.write(str(roi))\n",
    "        outf.write('\\n')"
   ]
  },
  {
   "cell_type": "code",
   "execution_count": null,
   "metadata": {
    "collapsed": true
   },
   "outputs": [],
   "source": []
  }
 ],
 "metadata": {
  "kernelspec": {
   "display_name": "Python 3",
   "language": "python",
   "name": "python3"
  },
  "language_info": {
   "codemirror_mode": {
    "name": "ipython",
    "version": 3
   },
   "file_extension": ".py",
   "mimetype": "text/x-python",
   "name": "python",
   "nbconvert_exporter": "python",
   "pygments_lexer": "ipython3",
   "version": "3.5.3"
  }
 },
 "nbformat": 4,
 "nbformat_minor": 2
}
